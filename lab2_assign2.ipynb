{
 "cells": [
  {
   "cell_type": "code",
   "execution_count": 1,
   "metadata": {
    "collapsed": true
   },
   "outputs": [],
   "source": [
    "import tensorflow as tf\n",
    "import numpy as np\n",
    "import matplotlib.pyplot as plt\n",
    "\n",
    "data = np.loadtxt('/home/d1/values.txt', skiprows=0)\n",
    "\n",
    "X_data = data[:,:2]\n",
    "Y_data = data[:,2:] "
   ]
  },
  {
   "cell_type": "code",
   "execution_count": 5,
   "metadata": {
    "collapsed": true
   },
   "outputs": [],
   "source": [
    "learning_rate = 0.005\n",
    "num_epochs = 500\n",
    "batch_size = 100\n",
    "display_step = 1\n",
    "\n",
    "x = tf.placeholder(tf.float32, [None, 2])\n",
    "y = tf.placeholder(tf.float32, [None, 1])\n",
    "\n",
    "# Model parameters\n",
    "W = tf.Variable(tf.zeros([2, 1]))\n",
    "b = tf.Variable([0.0])\n",
    "\n",
    "# Define the model\n",
    "logits = tf.matmul(x, W) + b\n",
    "\n",
    "# Loss function\n",
    "loss = tf.nn.sigmoid_cross_entropy_with_logits(labels=y, logits=logits)\n",
    "loss = tf.reduce_mean(loss)\n",
    "\n",
    "# Accuracy\n",
    "predict_op  = tf.greater_equal(logits, tf.zeros_like(logits))\n",
    "correct_op  = tf.equal(tf.cast(predict_op, tf.float32), y)\n",
    "accuracy_op = tf.reduce_mean(tf.cast(correct_op, tf.float32))\n",
    "\n",
    "# Optimizer\n",
    "optimizer = tf.train.GradientDescentOptimizer(learning_rate)\n",
    "train_op  = optimizer.minimize(loss)"
   ]
  },
  {
   "cell_type": "code",
   "execution_count": 6,
   "metadata": {},
   "outputs": [
    {
     "name": "stdout",
     "output_type": "stream",
     "text": [
      "After 10 epochs, cost = 0.800000011920929\n",
      "After 20 epochs, cost = 1.0\n",
      "After 30 epochs, cost = 1.0\n",
      "After 40 epochs, cost = 1.0\n",
      "After 50 epochs, cost = 1.0\n",
      "After 60 epochs, cost = 1.0\n",
      "After 70 epochs, cost = 1.0\n",
      "After 80 epochs, cost = 1.0\n",
      "After 90 epochs, cost = 1.0\n",
      "After 100 epochs, cost = 1.0\n",
      "After 110 epochs, cost = 1.0\n",
      "After 120 epochs, cost = 1.0\n",
      "After 130 epochs, cost = 1.0\n",
      "After 140 epochs, cost = 1.0\n",
      "After 150 epochs, cost = 1.0\n",
      "After 160 epochs, cost = 1.0\n",
      "After 170 epochs, cost = 1.0\n",
      "After 180 epochs, cost = 1.0\n",
      "After 190 epochs, cost = 1.0\n",
      "After 200 epochs, cost = 1.0\n",
      "After 210 epochs, cost = 1.0\n",
      "After 220 epochs, cost = 1.0\n",
      "After 230 epochs, cost = 1.0\n",
      "After 240 epochs, cost = 1.0\n",
      "After 250 epochs, cost = 1.0\n",
      "After 260 epochs, cost = 1.0\n",
      "After 270 epochs, cost = 1.0\n",
      "After 280 epochs, cost = 1.0\n",
      "After 290 epochs, cost = 1.0\n",
      "After 300 epochs, cost = 1.0\n",
      "After 310 epochs, cost = 1.0\n",
      "After 320 epochs, cost = 1.0\n",
      "After 330 epochs, cost = 1.0\n",
      "After 340 epochs, cost = 1.0\n",
      "After 350 epochs, cost = 1.0\n",
      "After 360 epochs, cost = 1.0\n",
      "After 370 epochs, cost = 1.0\n",
      "After 380 epochs, cost = 1.0\n",
      "After 390 epochs, cost = 1.0\n",
      "After 400 epochs, cost = 1.0\n",
      "After 410 epochs, cost = 1.0\n",
      "After 420 epochs, cost = 1.0\n",
      "After 430 epochs, cost = 1.0\n",
      "After 440 epochs, cost = 1.0\n",
      "After 450 epochs, cost = 1.0\n",
      "After 460 epochs, cost = 1.0\n",
      "After 470 epochs, cost = 1.0\n",
      "After 480 epochs, cost = 1.0\n",
      "After 490 epochs, cost = 1.0\n",
      "After 500 epochs, cost = 1.0\n",
      "W = [ 1.51317143 -2.19992828]\n",
      "b = -0.808622\n"
     ]
    },
    {
     "data": {
      "text/plain": [
       "[<matplotlib.lines.Line2D at 0x7fc630112358>]"
      ]
     },
     "execution_count": 6,
     "metadata": {},
     "output_type": "execute_result"
    }
   ],
   "source": [
    "sess = tf.Session()\n",
    "sess.run(tf.global_variables_initializer())\n",
    "\n",
    "# Seed the random number generator for reproducibility\n",
    "np.random.seed(0)\n",
    "\n",
    "# Minimize the loss function\n",
    "for epoch in range(num_epochs):\n",
    "    # Present each data point once in random order\n",
    "    idx = np.random.permutation(data.shape[0])\n",
    "    for i in idx:\n",
    "        feed_dict = {x: X_data[i:i+1], y: Y_data[i:i+1]}\n",
    "        sess.run(train_op, feed_dict)\n",
    "\n",
    "    if (epoch+1) % 10 == 0:\n",
    "        feed_dict = {x: X_data, y: Y_data}\n",
    "        accuracy = sess.run(accuracy_op, feed_dict)\n",
    "        print(\"After {} epochs, cost = {}\".format(epoch+1, accuracy))\n",
    "\n",
    "# Print the result\n",
    "W_val, b_val = sess.run([W, b])\n",
    "W_val = W_val[:,0]\n",
    "b_val = b_val[0]\n",
    "print(\"W =\", W_val)\n",
    "print(\"b =\", b_val)\n",
    "\n",
    "def predict(x_):\n",
    "    return 1 * sess.run(predict_op, {x: x_})\n",
    "\n",
    "#-------------------------------------------------------------------------------\n",
    "# Figure\n",
    "#-------------------------------------------------------------------------------\n",
    "\n",
    "# Model predictions\n",
    "labels = predict(X_data)[:,0]\n",
    "\n",
    "# Find indices for the two species\n",
    "idx_0, = np.where(labels == 0)\n",
    "idx_1, = np.where(labels == 1)\n",
    "\n",
    "# Plot the data\n",
    "plt.plot(X_data[idx_0,0], X_data[idx_0,1], 'bo', label='I. fitted line')\n",
    "plt.plot(X_data[idx_1,0], X_data[idx_1,1], 'ro', label='I. original data')\n",
    "\n",
    "# Plot the separating hyperplane\n",
    "x_sep = np.linspace(X_data[:,0].min(), X_data[:,0].max())\n",
    "y_sep = (-b_val - W_val[0]*x_sep) / W_val[1]\n",
    "plt.plot(x_sep, y_sep, 'm', label=\"Decision boundary\")"
   ]
  },
  {
   "cell_type": "code",
   "execution_count": 7,
   "metadata": {},
   "outputs": [
    {
     "data": {
      "image/png": "[encoded data removed]",
      "text/plain": [
       "<matplotlib.figure.Figure at 0x7fc650f43f60>"
      ]
     },
     "metadata": {},
     "output_type": "display_data"
    }
   ],
   "source": [
    "#plt.plot(X_data,Y_data,'ro')\n",
    "#plt.plot(X_data,sess.run(W)*X_data+sess.run(b))\n",
    "#plt.legend()\n",
    "plt.show()"
   ]
  },
  {
   "cell_type": "code",
   "execution_count": null,
   "metadata": {
    "collapsed": true
   },
   "outputs": [],
   "source": []
  }
 ],
 "metadata": {
  "kernelspec": {
   "display_name": "Python 3",
   "language": "python",
   "name": "python3"
  },
  "language_info": {
   "codemirror_mode": {
    "name": "ipython",
    "version": 3
   },
   "file_extension": ".py",
   "mimetype": "text/x-python",
   "name": "python",
   "nbconvert_exporter": "python",
   "pygments_lexer": "ipython3",
   "version": "3.6.1"
  }
 },
 "nbformat": 4,
 "nbformat_minor": 2
}
